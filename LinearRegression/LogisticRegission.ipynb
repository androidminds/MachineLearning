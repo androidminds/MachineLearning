{
 "cells": [
  {
   "cell_type": "markdown",
   "id": "30d1558d",
   "metadata": {},
   "source": [
    "# 利用梯度下降算法求解对数回归分类问题\n",
    "\n",
    "二分类问题就是在线性回归问题基础上，利用sigmoid函数来将结果映射到(0,1)区间，再通过阈值判断类别。\n"
   ]
  },
  {
   "cell_type": "code",
   "execution_count": 2,
   "id": "db1cf334",
   "metadata": {},
   "outputs": [],
   "source": [
    "import numpy as np\n",
    "import matplotlib.pyplot as plt\n",
    "\n",
    "def sigmoid(x):\n",
    "    return 1.0 / (1.0 + np.exp(-x))\n"
   ]
  },
  {
   "cell_type": "markdown",
   "id": "5cabf773",
   "metadata": {},
   "source": [
    "求sigmoid的导数"
   ]
  },
  {
   "cell_type": "code",
   "execution_count": 3,
   "id": "a4330d4d",
   "metadata": {},
   "outputs": [],
   "source": [
    "def derivative_sigmoid(W_hat, X_hat, y):\n",
    "    x = sigmoid(X_hat.dot(W_hat))\n",
    "    return X_hat.T.dot(x - y)/len(X_hat)"
   ]
  },
  {
   "cell_type": "markdown",
   "id": "aaf58161",
   "metadata": {},
   "source": [
    "定义类LogisticRegression，这里使用梯度下降算法来求解参数"
   ]
  },
  {
   "cell_type": "code",
   "execution_count": 4,
   "id": "8cf8b296",
   "metadata": {},
   "outputs": [],
   "source": [
    "class LogisticRegression:\n",
    "    def __init__(self, epochs, lr):\n",
    "        self.epochs = epochs\n",
    "        self.lr = lr\n",
    "\n",
    "    #损失函数\n",
    "    def loss(self, W_hat, X_hat, y):\n",
    "        p_predcit = sigmoid(X_hat.dot(W_hat))\n",
    "        try:\n",
    "            return -np.sum(y*np.log(p_predcit) + (1-y)*np.log(1-p_predcit)) / len(y)\n",
    "        except:\n",
    "            return float('inf')\n",
    "\n",
    "    def gradient_descent(self, X_hat, y, epsilon=1e-8):\n",
    "        W_hat = np.zeros(X_hat.shape[1])\n",
    "        for _ in range(self.epochs):\n",
    "            gradient = derivative_sigmoid(W_hat, X_hat, y)\n",
    "            W_old = W_hat\n",
    "            W_hat = W_hat - self.lr * gradient\n",
    "            if (abs(self.loss(W_hat, X_hat, y) - self.loss(W_old, X_hat, y)) < epsilon):\n",
    "                break\n",
    "\n",
    "        return W_hat\n",
    "\n",
    "    def fit(self, X, y, eta=0.01, n_iters=1e4):\n",
    "        assert X.shape[0] == y.shape[0], '数据长度需要和标签长度一致'\n",
    "        X_hat = np.hstack([np.ones((len(X),1)),X])\n",
    "        W_hat = self.gradient_descent(X_hat, y)\n",
    "        self.b = W_hat[0]\n",
    "        self.W = W_hat[1:]\n",
    "\n",
    "    def predict(self, x):\n",
    "        probility = sigmoid(self.W.T.dot(x) + self.b)\n",
    "        return np.array(probility > 0.5, dtype='int')\n"
   ]
  },
  {
   "cell_type": "markdown",
   "id": "74173134",
   "metadata": {},
   "source": [
    "  利用西瓜数据集3.0a来做测试"
   ]
  },
  {
   "cell_type": "code",
   "execution_count": 5,
   "id": "2f877e31",
   "metadata": {},
   "outputs": [
    {
     "name": "stdout",
     "output_type": "stream",
     "text": [
      "W=[0.78654928 2.43436648], b=-1.0204070691223535\n",
      "0\n",
      "1\n"
     ]
    }
   ],
   "source": [
    "def main():\n",
    "\n",
    "    X = np.array([[0.607, 0.460],\n",
    "                  [0.774, 0.376],\n",
    "                  [0.634, 0.264],\n",
    "                  [0.608, 0.318],\n",
    "                  [0.556, 0.215],\n",
    "                  [0.403, 0.237],\n",
    "                  [0.481, 0.149],\n",
    "                  [0.437, 0.211],\n",
    "                  [0.666, 0.091],\n",
    "                  [0.243, 0.267],\n",
    "                  [0.245, 0.057],\n",
    "                  [0.343, 0.099],\n",
    "                  [0.639, 0.161],\n",
    "                  [0.657, 0.198],\n",
    "                  [0.360, 0.370],\n",
    "                  [0.593, 0.042],\n",
    "                  [0.719, 0.103],\n",
    "                  ])\n",
    "    y = np.array([1,1,1,1,1,1,1,1,0,0,0,0,0,0,0,0,0])\n",
    "\n",
    "    model = LogisticRegression(epochs = 10000, lr = 0.01)\n",
    "    model.fit(X, y)\n",
    "\n",
    "    print(f\"W={model.W}, b={model.b}\")\n",
    "\n",
    "    print(model.predict((0.719, 0.103)))\n",
    "    print(model.predict((0.607, 0.406)))\n",
    "\n",
    "if __name__ == \"__main__\":\n",
    "    main()"
   ]
  },
  {
   "cell_type": "code",
   "execution_count": null,
   "id": "52cf5972",
   "metadata": {},
   "outputs": [],
   "source": []
  }
 ],
 "metadata": {
  "kernelspec": {
   "display_name": "pytorch2.1",
   "language": "python",
   "name": "pytorch2.1"
  },
  "language_info": {
   "codemirror_mode": {
    "name": "ipython",
    "version": 3
   },
   "file_extension": ".py",
   "mimetype": "text/x-python",
   "name": "python",
   "nbconvert_exporter": "python",
   "pygments_lexer": "ipython3",
   "version": "3.10.9"
  }
 },
 "nbformat": 4,
 "nbformat_minor": 5
}
