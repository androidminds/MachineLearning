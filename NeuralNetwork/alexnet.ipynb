{
 "cells": [
  {
   "cell_type": "markdown",
   "id": "589d1770",
   "metadata": {},
   "source": [
    "# 使用AlexNet卷积神经网络来分类CIFAR10库"
   ]
  },
  {
   "cell_type": "markdown",
   "id": "5f293a08",
   "metadata": {},
   "source": [
    "AlexNet是Hinton和他的学生Alex Krizhevsky设计的，并且在2012年的ImageNet竞赛中获得冠军。AlexNet在LeNet的基础上加深了网络的结构，能够学习更丰富更高维的图像特征。AlexNet网络具有以下特点：\n",
    "* 更深的网络结构\n",
    "* 使用层叠的卷积层，即卷积层+卷积层+池化层来提取图像的特征\n",
    "* 使用Dropout抑制过拟合\n",
    "* 使用数据增强Data Augmentation抑制过拟合\n",
    "* 使用Relu替换以前常用的sigmoid的作为激活函数\n",
    "* 多GPU训练"
   ]
  },
  {
   "cell_type": "code",
   "execution_count": 6,
   "id": "51c95903",
   "metadata": {},
   "outputs": [],
   "source": [
    "# -*- coding:utf-8 -*-\n",
    "import os\n",
    "import time\n",
    "from pathlib import Path\n",
    "import torch\n",
    "import torch.nn as nn\n",
    "import torch.optim as optim\n",
    "from torchvision import datasets, transforms\n",
    "import matplotlib.pyplot as plt\n",
    "\n",
    "device = torch.device(\"cuda\" if torch.cuda.is_available() else \"cpu\")"
   ]
  },
  {
   "cell_type": "markdown",
   "id": "79568a99",
   "metadata": {},
   "source": [
    "<img src=\"../image/alexnet.png\" alt=\"Drawing\" style=\"width: 700px;\" align=\"center\"/>"
   ]
  },
  {
   "cell_type": "markdown",
   "id": "1666d6c9",
   "metadata": {},
   "source": [
    "AlexNet的网络结构如上图所示。下面用Pytorch的基本函数来搭建一个AlexNet。"
   ]
  },
  {
   "cell_type": "code",
   "execution_count": 7,
   "id": "2d8bffff",
   "metadata": {},
   "outputs": [],
   "source": [
    "class AlexNet(nn.Module):\n",
    "    def __init__(self, ouput_size):\n",
    "        super(AlexNet, self).__init__()\n",
    "\n",
    "        self.conv1 = nn.Sequential( \n",
    "            nn.Conv2d(3, 96, kernel_size=11, stride=4, padding=0),\n",
    "            nn.BatchNorm2d(96),\n",
    "            nn.MaxPool2d(kernel_size=3, stride=2),\n",
    "            nn.ReLU(inplace=True)\n",
    "            )\n",
    "\n",
    "        self.conv2 = nn.Sequential(\n",
    "            nn.Conv2d(96, 256, kernel_size=5, stride=1, padding=2),\n",
    "            nn.BatchNorm2d(256),\n",
    "            nn.MaxPool2d(kernel_size=3, stride=2),\n",
    "            nn.ReLU(inplace=True)\n",
    "            )\n",
    "\n",
    "        self.conv3 = nn.Sequential(\n",
    "            nn.Conv2d(256, 384, kernel_size=3, stride=1, padding=1),\n",
    "            nn.ReLU(inplace=True)\n",
    "            )\n",
    "\n",
    "        self.conv4 = nn.Sequential(\n",
    "            nn.Conv2d(384, 384, kernel_size=3, stride=1, padding=1),\n",
    "            nn.ReLU(inplace=True)\n",
    "            )\n",
    " \n",
    "        self.conv5 = nn.Sequential(\n",
    "            nn.Conv2d(384, 256, kernel_size=3, stride=1, padding=1), \n",
    "            nn.MaxPool2d(kernel_size=3, stride=2),\n",
    "            nn.ReLU(inplace=True)\n",
    "            )\n",
    "\n",
    "        self.fc1 = nn.Sequential(\n",
    "            nn.Dropout(p=0.5),\n",
    "            nn.Linear(256*6*6, 4096),\n",
    "            nn.ReLU()\n",
    "            )\n",
    "\n",
    "        self.fc2 = nn.Sequential(\n",
    "            nn.Dropout(p=0.5),\n",
    "            nn.Linear(4096, 4096),\n",
    "            nn.ReLU()\n",
    "            )\n",
    "\n",
    "        self.fc3 = nn.Sequential(\n",
    "            nn.Linear(4096, ouput_size),\n",
    "            nn.LogSoftmax(dim=-1)\n",
    "            )\n",
    "\n",
    "\n",
    "    def forward(self, x):\n",
    "        x = self.conv1(x)\n",
    "        x = self.conv2(x)\n",
    "        x = self.conv3(x)\n",
    "        x = self.conv4(x)\n",
    "        x = self.conv5(x)\n",
    "        x = x.view(x.size(0), -1)\n",
    "        x = self.fc1(x)\n",
    "        x = self.fc2(x)\n",
    "        x = self.fc3(x)\n",
    "        return x"
   ]
  },
  {
   "cell_type": "markdown",
   "id": "04b2fe45",
   "metadata": {},
   "source": [
    "CIFAR-10数据集 是由 Hinton 的学生 Alex Krizhevsky 和 Ilya Sutskever 整理的一个用于识别普适物体的小型数据集。一共包含 10 个类别的 RGB 彩色图 片：飞机（ airplane ）、汽车（ automobile ）、鸟类（ bird ）、猫（ cat ）、鹿（ deer ）、狗（ dog ）、蛙类（ frog ）、马（ horse ）、船（ ship ）和卡车（ truck ）。图片的尺寸为 32×32 ，数据集中一共有 50000 张训练图片和 10000 张测试图片。"
   ]
  },
  {
   "cell_type": "code",
   "execution_count": 8,
   "id": "6dcd4e70",
   "metadata": {},
   "outputs": [],
   "source": [
    "def load_data(root, batch_size):\n",
    "    image_size = 227\n",
    "    data_tf = transforms.Compose(\n",
    "    [\n",
    "        transforms.Resize((image_size, image_size)), \n",
    "        transforms.ToTensor( ),\n",
    "        transforms.Normalize([0.485, 0.456, 0.406], [0.229, 0.224, 0.225])\n",
    "    ])\n",
    "\n",
    "    train_data = datasets.CIFAR10(root=root,train=True,transform=data_tf,download=False)\n",
    "    valid_data = datasets.CIFAR10(root=root,train=False,transform=data_tf,download=False)\n",
    "\n",
    "    train_loader =torch.utils.data.DataLoader(dataset=train_data,batch_size=batch_size,shuffle=True)\n",
    "    valid_loader =torch.utils.data.DataLoader(dataset=valid_data,batch_size=batch_size,shuffle=False)\n",
    "    return train_loader, valid_loader"
   ]
  },
  {
   "cell_type": "markdown",
   "id": "fcfa48a7",
   "metadata": {},
   "source": [
    "定义train函数"
   ]
  },
  {
   "cell_type": "code",
   "execution_count": 9,
   "id": "8c98a5c9",
   "metadata": {},
   "outputs": [],
   "source": [
    "def train(train_loader, valid_loader, learning_rate, epochs):\n",
    "    model = AlexNet(ouput_size = 10).to(device)\n",
    "\n",
    "    # create a stochastic gradient descent optimizer\n",
    "    optimizer = optim.SGD(model.parameters(), lr=learning_rate, momentum=0.9)\n",
    "        \n",
    "    # create a loss function\n",
    "    criterion = nn.CrossEntropyLoss()\n",
    "\n",
    "    start_time = time.time()\n",
    "    total_loss = []\n",
    "    for epoch in range(epochs):\n",
    "        model.train()\n",
    "        \n",
    "        train_loss, train_accs = [], []\n",
    "        for _, (data, target) in enumerate(train_loader):\n",
    "            data = data.to(device)\n",
    "            target = target.to(device)\n",
    "            optimizer.zero_grad()\n",
    "            result = model(data)\n",
    "            loss = criterion(result, target)\n",
    "            loss.backward()\n",
    "            optimizer.step()\n",
    "\n",
    "            accuarcy = (result.argmax(dim=-1).to('cpu') == target.to('cpu')).float().mean()  \n",
    "            train_loss.append(loss.item())\n",
    "            train_accs.append(accuarcy)\n",
    "\n",
    "        train_loss = sum(train_loss) / len(train_loss)\n",
    "        train_acc = sum(train_accs) /len(train_accs)\n",
    "        print(f\"[ Train | {epoch + 1:03d}/{epochs:03d} ] loss = {train_loss:.5f}, accuracy = {train_acc:.5f}\")    \n",
    "        \n",
    "        # begin valid\n",
    "        model.eval() \n",
    "        valid_loss, valid_accs = [], []\n",
    "     \n",
    "        for data, target in valid_loader:\n",
    "            data = data.to(device)\n",
    "            target = target.to(device)\n",
    "            with torch.no_grad():\n",
    "                result = model(data)\n",
    "\n",
    "            loss = criterion(result, target)\n",
    "            accuarcy = (result.argmax(dim=-1).to('cpu') == target.to('cpu')).float().mean()\n",
    "\n",
    "            valid_loss.append(loss.item())\n",
    "            valid_accs.append(accuarcy) \n",
    "\n",
    "        valid_loss = sum(valid_loss) / len(valid_loss)\n",
    "        valid_acc = sum(valid_accs) / len(valid_accs)\n",
    "        total_loss.append(valid_loss)\n",
    "        print(f\"[ Valid | {epoch + 1:03d}/{epochs:03d} ] loss = {valid_loss:.5f}, accuracy = {valid_acc:.5f}\")\n",
    "\n",
    "    time_span = time.time() - start_time\n",
    "    print(f'Training is over, spending time {time_span/60:.1f} minutes \\r\\nvalid accuracy is {valid_acc:.5f}')\n",
    "    return total_loss"
   ]
  },
  {
   "cell_type": "markdown",
   "id": "c8ee760d",
   "metadata": {},
   "source": [
    "开始训练"
   ]
  },
  {
   "cell_type": "code",
   "execution_count": 10,
   "id": "6ee853b8",
   "metadata": {},
   "outputs": [
    {
     "name": "stdout",
     "output_type": "stream",
     "text": [
      "[ Train | 001/010 ] loss = 1.63486, accuracy = 0.39124\n",
      "[ Valid | 001/010 ] loss = 1.40671, accuracy = 0.51224\n",
      "[ Train | 002/010 ] loss = 1.15944, accuracy = 0.58632\n",
      "[ Valid | 002/010 ] loss = 1.02781, accuracy = 0.64122\n",
      "[ Train | 003/010 ] loss = 0.91191, accuracy = 0.67717\n",
      "[ Valid | 003/010 ] loss = 0.84051, accuracy = 0.70920\n",
      "[ Train | 004/010 ] loss = 0.76261, accuracy = 0.73426\n",
      "[ Valid | 004/010 ] loss = 0.76028, accuracy = 0.74512\n",
      "[ Train | 005/010 ] loss = 0.65692, accuracy = 0.77092\n",
      "[ Valid | 005/010 ] loss = 0.68354, accuracy = 0.76752\n",
      "[ Train | 006/010 ] loss = 0.57203, accuracy = 0.80273\n",
      "[ Valid | 006/010 ] loss = 0.55406, accuracy = 0.81320\n",
      "[ Train | 007/010 ] loss = 0.49759, accuracy = 0.82685\n",
      "[ Valid | 007/010 ] loss = 0.57933, accuracy = 0.80732\n",
      "[ Train | 008/010 ] loss = 0.44240, accuracy = 0.84653\n",
      "[ Valid | 008/010 ] loss = 0.52399, accuracy = 0.82643\n",
      "[ Train | 009/010 ] loss = 0.38700, accuracy = 0.86467\n",
      "[ Valid | 009/010 ] loss = 0.51088, accuracy = 0.82663\n",
      "[ Train | 010/010 ] loss = 0.34315, accuracy = 0.87878\n",
      "[ Valid | 010/010 ] loss = 0.56090, accuracy = 0.81509\n",
      "Training is over, spending time 19.7 minutes \n",
      "valid accuracy is 0.81509\n"
     ]
    },
    {
     "data": {
      "image/png": "[encoded data removed]",
      "text/plain": [
       "<Figure size 640x480 with 1 Axes>"
      ]
     },
     "metadata": {},
     "output_type": "display_data"
    }
   ],
   "source": [
    "def main():\n",
    "    data_root = Path(os.environ.get('ML_DATA_ROOT')).joinpath('cifar-10-python')\n",
    "    train_loader, valid_loader = load_data(data_root, batch_size = 64);\n",
    "    losses = train(train_loader, valid_loader, learning_rate = 0.005, epochs = 10)\n",
    "\n",
    "    # 绘制损失函数曲线\n",
    "    plt.figure('AlexNet')\n",
    "    plt.plot(losses, label='Loss')\n",
    "    plt.legend('Loss')\n",
    "    plt.show()\n",
    "\n",
    "if __name__ == \"__main__\":\n",
    "    main()"
   ]
  }
 ],
 "metadata": {
  "kernelspec": {
   "display_name": "pytorch2.1",
   "language": "python",
   "name": "pytorch2.1"
  },
  "language_info": {
   "codemirror_mode": {
    "name": "ipython",
    "version": 3
   },
   "file_extension": ".py",
   "mimetype": "text/x-python",
   "name": "python",
   "nbconvert_exporter": "python",
   "pygments_lexer": "ipython3",
   "version": "3.10.9"
  }
 },
 "nbformat": 4,
 "nbformat_minor": 5
}
