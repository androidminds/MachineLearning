{
 "cells": [
  {
   "cell_type": "markdown",
   "id": "57215911",
   "metadata": {},
   "source": [
    "# 一个使用LeNet5网络来分类minst库的例子"
   ]
  },
  {
   "cell_type": "markdown",
   "id": "50696a11",
   "metadata": {},
   "source": [
    "LeNet是贝尔实验室的研究员Yann LeCun在1989年提出的，它是最早发布的卷积神经网络之一，也是第⼀篇通过反向传播成功算法来训练卷积神经⽹络的论文。\n",
    "这项⼯作代表了⼗多年来神经⽹络研究开发的成果，成为当时监督学习的主流⽅法。\\\n",
    "论文地址: [Gradient-based learning applied to document recognition](http://lushuangning.oss-cn-beijing.aliyuncs.com/CNN%E5%AD%A6%E4%B9%A0%E7%B3%BB%E5%88%97/Gradient-Based_Learning_Applied_to_Document_Recognition.pdf)"
   ]
  },
  {
   "cell_type": "code",
   "execution_count": 31,
   "id": "6f5848e1",
   "metadata": {},
   "outputs": [],
   "source": [
    "import os\n",
    "import time\n",
    "from pathlib import Path\n",
    "import torch\n",
    "import torch.nn as nn\n",
    "import torch.optim as optim\n",
    "from torchvision import datasets, transforms\n",
    "import matplotlib.pyplot as plt\n",
    "\n",
    "device = torch.device(\"cuda\" if torch.cuda.is_available() else \"cpu\")"
   ]
  },
  {
   "cell_type": "markdown",
   "id": "bde42d38",
   "metadata": {},
   "source": [
    "<img src=\"../image/lenet5.png\" alt=\"Drawing\" style=\"width: 700px;\" align=\"center\"/>"
   ]
  },
  {
   "cell_type": "markdown",
   "id": "036f8d0e",
   "metadata": {},
   "source": [
    "LeNet版本有三个，分别是LeNet1，LetNet4和LeNet5。最常用的是LeNet5，如上图所示：32x32的输入图像，第一个卷积层有6个28×28 feature maps ，卷积核大小为5×5，池化层为2×2，第二个卷积层有16个10×10 feature maps 卷积核大小为5×5，池化层为2×2。卷积层后面连接的是全连接层。\\\n",
    "下面的代码中激活函数用到ReLU，如果换成Sigmoid，效果会很差，有时间再研究原因。"
   ]
  },
  {
   "cell_type": "code",
   "execution_count": 32,
   "id": "db8c1664",
   "metadata": {},
   "outputs": [],
   "source": [
    "class LeNet5(nn.Module):\n",
    "    def __init__(self, output_size):\n",
    "        super(LeNet5, self).__init__()\n",
    "\n",
    "        self.conv1 = nn.Sequential(\n",
    "            nn.Conv2d(1, 6, kernel_size=(5, 5)),\n",
    "            nn.ReLU(),\n",
    "            nn.AvgPool2d(kernel_size=(2, 2), stride=2)\n",
    "            )\n",
    "\n",
    "        self.conv2 = nn.Sequential(\n",
    "            nn.Conv2d(6, 16, kernel_size=(5, 5)),\n",
    "            nn.ReLU(),\n",
    "            nn.AvgPool2d(kernel_size=(2, 2), stride=2)\n",
    "            )\n",
    "\n",
    "        self.fc1 = nn.Sequential(\n",
    "             nn.Linear(16*5*5, 120),\n",
    "            nn.ReLU()\n",
    "            )\n",
    "\n",
    "        self.fc2 = nn.Sequential(\n",
    "            nn.Linear(120, 84),\n",
    "            nn.ReLU()\n",
    "            )\n",
    "\n",
    "        self.fc3 = nn.Sequential(\n",
    "            nn.Linear(84, output_size),\n",
    "            nn.LogSoftmax(dim=-1)\n",
    "            )\n",
    "\n",
    "    def forward(self, x):\n",
    "        x = self.conv1(x)\n",
    "        x = self.conv2(x)    \n",
    "        x = x.view(x.size(0),-1)\n",
    "        x = self.fc1(x)\n",
    "        x = self.fc2(x)\n",
    "        x = self.fc3(x)\n",
    "        return x"
   ]
  },
  {
   "cell_type": "markdown",
   "id": "d743ee99",
   "metadata": {},
   "source": [
    "装载数据"
   ]
  },
  {
   "cell_type": "code",
   "execution_count": 33,
   "id": "6630348d",
   "metadata": {},
   "outputs": [],
   "source": [
    "def load_data(root, batch_size):\n",
    "    image_size = 32\n",
    "    data_tf = transforms.Compose(\n",
    "    [\n",
    "        transforms.Resize((image_size, image_size)), \n",
    "        transforms.ToTensor( ),\n",
    "        transforms.Normalize(mean = (0.1307,), std = (0.3081,))\n",
    "    ])\n",
    "\n",
    "    train_data = datasets.MNIST(root=root,train=True,transform=data_tf,download=False)\n",
    "    valid_data = datasets.MNIST(root=root,train=False,transform=data_tf,download=False)\n",
    "\n",
    "    train_loader =torch.utils.data.DataLoader(dataset=train_data,batch_size=batch_size,shuffle=True)\n",
    "    valid_loader =torch.utils.data.DataLoader(dataset=valid_data,batch_size=batch_size,shuffle=False)\n",
    "    return train_loader, valid_loader\n",
    "\n"
   ]
  },
  {
   "cell_type": "markdown",
   "id": "5fb93219",
   "metadata": {},
   "source": [
    "定义训练函数"
   ]
  },
  {
   "cell_type": "code",
   "execution_count": 34,
   "id": "11e0caa9",
   "metadata": {},
   "outputs": [],
   "source": [
    "def train(train_loader, valid_loader, learning_rate, epochs):\n",
    "    model = LeNet5(10).to(device)\n",
    "\n",
    "    # create a stochastic gradient descent optimizer\n",
    "    optimizer = optim.SGD(model.parameters(), lr=learning_rate, momentum=0.9)\n",
    "        \n",
    "    # create a loss function\n",
    "    criterion = nn.NLLLoss()\n",
    "\n",
    "    start_time = time.time()\n",
    "    total_loss = []\n",
    "    for epoch in range(epochs):\n",
    "        model.train()\n",
    "        \n",
    "        train_loss, train_accs = [], []\n",
    "        for _, (data, target) in enumerate(train_loader):\n",
    "            data = data.to(device)\n",
    "            target = target.to(device)\n",
    "            optimizer.zero_grad()\n",
    "            result = model(data)\n",
    "            loss = criterion(result, target)\n",
    "            loss.backward()\n",
    "            optimizer.step()\n",
    "\n",
    "            accuarcy = (result.argmax(dim=-1).to('cpu') == target.to('cpu')).float().mean()  \n",
    "            train_loss.append(loss.item())\n",
    "            train_accs.append(accuarcy)\n",
    "\n",
    "        train_loss = sum(train_loss) / len(train_loss)\n",
    "        train_acc = sum(train_accs) /len(train_accs)\n",
    "        print(f\"[ Train | {epoch + 1:03d}/{epochs:03d} ] loss = {train_loss:.5f}, accuracy = {train_acc:.5f}\")    \n",
    "        \n",
    "        # begin valid\n",
    "        model.eval() \n",
    "        valid_loss, valid_accs = [], []\n",
    "     \n",
    "        for data, target in valid_loader:\n",
    "            data = data.to(device)\n",
    "            target = target.to(device)\n",
    "            with torch.no_grad():\n",
    "                result = model(data)\n",
    "\n",
    "            loss = criterion(result, target)\n",
    "            accuarcy = (result.argmax(dim=-1).to('cpu') == target.to('cpu')).float().mean()\n",
    "\n",
    "            valid_loss.append(loss.item())\n",
    "            valid_accs.append(accuarcy) \n",
    "\n",
    "        valid_loss = sum(valid_loss) / len(valid_loss)\n",
    "        valid_acc = sum(valid_accs) / len(valid_accs)\n",
    "        total_loss.append(valid_loss)\n",
    "        print(f\"[ Valid | {epoch + 1:03d}/{epochs:03d} ] loss = {valid_loss:.5f}, accuracy = {valid_acc:.5f}\")\n",
    "\n",
    "    time_span = time.time() - start_time\n",
    "    print(f'Training is over, spending time {time_span/60:.1f} minutes \\r\\nvalid accuracy is {valid_acc:.5f}')\n",
    "    return total_loss\n"
   ]
  },
  {
   "cell_type": "markdown",
   "id": "af13d9d2",
   "metadata": {},
   "source": [
    "开始训练"
   ]
  },
  {
   "cell_type": "code",
   "execution_count": 35,
   "id": "889a82bb",
   "metadata": {},
   "outputs": [
    {
     "name": "stdout",
     "output_type": "stream",
     "text": [
      "[ Train | 001/004 ] loss = 0.56461, accuracy = 0.81688\n",
      "[ Valid | 001/004 ] loss = 0.09906, accuracy = 0.96830\n",
      "[ Train | 002/004 ] loss = 0.08990, accuracy = 0.97223\n",
      "[ Valid | 002/004 ] loss = 0.06559, accuracy = 0.97880\n",
      "[ Train | 003/004 ] loss = 0.06114, accuracy = 0.98090\n",
      "[ Valid | 003/004 ] loss = 0.04489, accuracy = 0.98540\n",
      "[ Train | 004/004 ] loss = 0.04765, accuracy = 0.98555\n",
      "[ Valid | 004/004 ] loss = 0.04249, accuracy = 0.98680\n",
      "Training is over, spending time 1.1 minutes \n",
      "valid accuracy is 0.98680\n"
     ]
    },
    {
     "data": {
      "image/png": "[encoded data removed]",
      "text/plain": [
       "<Figure size 640x480 with 1 Axes>"
      ]
     },
     "metadata": {},
     "output_type": "display_data"
    }
   ],
   "source": [
    "def main():\n",
    "    data_root = Path(os.environ.get('ML_DATA_ROOT')).joinpath('mnist')\n",
    "    train_loader, valid_loader = load_data(data_root, batch_size = 100);\n",
    "    losses = train(train_loader, valid_loader, learning_rate = 0.01, epochs = 4)\n",
    "\n",
    "    # 绘制损失函数曲线\n",
    "    plt.figure('LeNet5')\n",
    "    plt.plot(losses, label='Loss')\n",
    "    plt.legend('Loss')\n",
    "    plt.show()\n",
    "\n",
    "if __name__ == \"__main__\":\n",
    "    main()"
   ]
  }
 ],
 "metadata": {
  "kernelspec": {
   "display_name": "pytorch2.1",
   "language": "python",
   "name": "pytorch2.1"
  },
  "language_info": {
   "codemirror_mode": {
    "name": "ipython",
    "version": 3
   },
   "file_extension": ".py",
   "mimetype": "text/x-python",
   "name": "python",
   "nbconvert_exporter": "python",
   "pygments_lexer": "ipython3",
   "version": "3.10.9"
  }
 },
 "nbformat": 4,
 "nbformat_minor": 5
}
