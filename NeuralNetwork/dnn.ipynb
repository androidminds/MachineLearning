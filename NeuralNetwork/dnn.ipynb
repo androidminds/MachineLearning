{
 "cells": [
  {
   "cell_type": "markdown",
   "id": "541f22f9",
   "metadata": {},
   "source": [
    "# 用一个全连接网络来分类minst库"
   ]
  },
  {
   "cell_type": "code",
   "execution_count": 2,
   "id": "fd7b895d",
   "metadata": {},
   "outputs": [],
   "source": [
    "# -*- coding:utf-8 -*-\n",
    "import os\n",
    "import time\n",
    "from pathlib import Path\n",
    "import torch\n",
    "import torch.nn as nn\n",
    "import torch.optim as optim\n",
    "from torchvision import datasets, transforms\n",
    "import matplotlib.pyplot as plt\n",
    "\n",
    "device = torch.device(\"cuda\" if torch.cuda.is_available() else \"cpu\")"
   ]
  },
  {
   "cell_type": "markdown",
   "id": "a86ecfb1",
   "metadata": {},
   "source": [
    "利用pytorch的基本函数来搭建一个DNN网络\n",
    "<image src=\"D:\\workshop\\MachineLearning\\image\\dnn.jpg\">"
   ]
  },
  {
   "cell_type": "code",
   "execution_count": 3,
   "id": "a6432240",
   "metadata": {},
   "outputs": [],
   "source": [
    "class DNN(nn.Module):\n",
    "    def __init__(self, input_size, hidden_size, hidden_layer, dropout, output_size):\n",
    "        super(DNN, self).__init__()\n",
    "\n",
    "        self.hidden_layer = hidden_layer\n",
    "\n",
    "        self.fc1 = nn.Sequential(\n",
    "            nn.Linear(input_size, hidden_size), \n",
    "            nn.ReLU(),\n",
    "            )\n",
    "\n",
    "        self.fc2 = nn.Sequential( \n",
    "            nn.Linear(hidden_size, hidden_size),\n",
    "            nn.ReLU(),\n",
    "            nn.Dropout(dropout),\n",
    "            )\n",
    "\n",
    "        self.fc3 = nn.Sequential(\n",
    "            nn.Linear(hidden_size, output_size),\n",
    "            nn.LogSoftmax(dim=-1)\n",
    "            )\n",
    "\n",
    "    def forward(self, x):\n",
    "        x = x.view(x.size(0),-1)\n",
    "        out = self.fc1(x)\n",
    "        for _ in range(self.hidden_layer):\n",
    "            out = self.fc2(out)\n",
    "        out = self.fc3(out)\n",
    "        return out"
   ]
  },
  {
   "cell_type": "markdown",
   "id": "2c8bc054",
   "metadata": {},
   "source": [
    "创建数据集，这里需要需要下载好数据集，或者把download参数改成True，这样可以自动下载"
   ]
  },
  {
   "cell_type": "code",
   "execution_count": 4,
   "id": "cc28e9c9",
   "metadata": {},
   "outputs": [],
   "source": [
    "def load_data(root, batch_size):\n",
    "    image_size = 28\n",
    "    data_tf = transforms.Compose(\n",
    "    [\n",
    "        transforms.Resize((image_size, image_size)), \n",
    "        transforms.ToTensor( ),\n",
    "        transforms.Normalize(mean = (0.1307,), std = (0.3081,))\n",
    "    ])\n",
    "\n",
    "    train_data = datasets.MNIST(root=root,train=True,transform=data_tf,download=False)\n",
    "    valid_data = datasets.MNIST(root=root,train=False,transform=data_tf,download=False)\n",
    "\n",
    "    train_loader =torch.utils.data.DataLoader(dataset=train_data,batch_size=batch_size,shuffle=True)\n",
    "    valid_loader =torch.utils.data.DataLoader(dataset=valid_data,batch_size=batch_size,shuffle=False)\n",
    "    return train_loader, valid_loader, image_size*image_size"
   ]
  },
  {
   "cell_type": "markdown",
   "id": "cac813c9",
   "metadata": {},
   "source": [
    "train函数"
   ]
  },
  {
   "cell_type": "code",
   "execution_count": 5,
   "id": "f51dce86",
   "metadata": {},
   "outputs": [],
   "source": [
    "\n",
    "def train(train_loader, valid_loader, input_dim, learning_rate, epochs):\n",
    "    model = DNN(input_dim, 128, 1, 0.0, 10).to(device)\n",
    "\n",
    "    # create a stochastic gradient descent optimizer\n",
    "    optimizer = optim.SGD(model.parameters(), lr=learning_rate, momentum=0.9)\n",
    "        \n",
    "    # create a loss function\n",
    "    criterion = nn.NLLLoss()\n",
    "\n",
    "    start_time = time.time()\n",
    "    total_loss = []\n",
    "    for epoch in range(epochs):\n",
    "        model.train()\n",
    "        \n",
    "        train_loss, train_accs = [], []\n",
    "        for _, (data, target) in enumerate(train_loader):\n",
    "            data = data.to(device)\n",
    "            target = target.to(device)\n",
    "            optimizer.zero_grad()\n",
    "            result = model(data)\n",
    "            loss = criterion(result, target)\n",
    "            loss.backward()\n",
    "            optimizer.step()\n",
    "\n",
    "            accuarcy = (result.argmax(dim=-1).to('cpu') == target.to('cpu')).float().mean()  \n",
    "            train_loss.append(loss.item())\n",
    "            train_accs.append(accuarcy)\n",
    "\n",
    "        train_loss = sum(train_loss) / len(train_loss)\n",
    "        train_acc = sum(train_accs) /len(train_accs)\n",
    "        print(f\"[ Train | {epoch + 1:03d}/{epochs:03d} ] loss = {train_loss:.5f}, accuracy = {train_acc:.5f}\")    \n",
    "        \n",
    "        # begin valid\n",
    "        model.eval() \n",
    "        valid_loss, valid_accs = [], []\n",
    "     \n",
    "        for data, target in valid_loader:\n",
    "            data = data.to(device)\n",
    "            target = target.to(device)\n",
    "            with torch.no_grad():\n",
    "                result = model(data)\n",
    "\n",
    "            loss = criterion(result, target)\n",
    "            accuarcy = (result.argmax(dim=-1).to('cpu') == target.to('cpu')).float().mean()\n",
    "\n",
    "            valid_loss.append(loss.item())\n",
    "            valid_accs.append(accuarcy) \n",
    "\n",
    "        valid_loss = sum(valid_loss) / len(valid_loss)\n",
    "        valid_acc = sum(valid_accs) / len(valid_accs)\n",
    "        total_loss.append(valid_loss)\n",
    "        print(f\"[ Valid | {epoch + 1:03d}/{epochs:03d} ] loss = {valid_loss:.5f}, accuracy = {valid_acc:.5f}\")\n",
    "\n",
    "    time_span = time.time() - start_time\n",
    "    print(f'Training is over, spending time {time_span/60:.1f} minutes \\r\\nvalid accuracy is {valid_acc:.5f}')\n",
    "    return total_loss"
   ]
  },
  {
   "cell_type": "markdown",
   "id": "5b858e24",
   "metadata": {},
   "source": [
    "数据集通常比较大，可以把数据集保存在一个固定的地方。这里通过环境变量来指定了保存的目录"
   ]
  },
  {
   "cell_type": "code",
   "execution_count": 6,
   "id": "9d237327",
   "metadata": {},
   "outputs": [
    {
     "name": "stdout",
     "output_type": "stream",
     "text": [
      "[ Train | 001/004 ] loss = 0.39331, accuracy = 0.88460\n",
      "[ Valid | 001/004 ] loss = 0.17286, accuracy = 0.94720\n",
      "[ Train | 002/004 ] loss = 0.14228, accuracy = 0.95767\n",
      "[ Valid | 002/004 ] loss = 0.11263, accuracy = 0.96500\n",
      "[ Train | 003/004 ] loss = 0.09816, accuracy = 0.97032\n",
      "[ Valid | 003/004 ] loss = 0.09007, accuracy = 0.97290\n",
      "[ Train | 004/004 ] loss = 0.07282, accuracy = 0.97842\n",
      "[ Valid | 004/004 ] loss = 0.08487, accuracy = 0.97350\n",
      "Training is over, spending time 1.1 minutes \n",
      "valid accuracy is 0.97350\n"
     ]
    },
    {
     "data": {
      "image/png": "[encoded data removed]",
      "text/plain": [
       "<Figure size 640x480 with 1 Axes>"
      ]
     },
     "metadata": {},
     "output_type": "display_data"
    }
   ],
   "source": [
    "def main():\n",
    "    data_root = Path(os.environ.get('ML_DATA_ROOT')).joinpath('mnist')\n",
    "    train_loader, valid_loader, input_dim = load_data(data_root, batch_size = 100);\n",
    "    losses = train(train_loader, valid_loader, input_dim, learning_rate = 0.01, epochs = 4)\n",
    "\n",
    "    # 绘制损失函数曲线\n",
    "    plt.figure('DNN')\n",
    "    plt.plot(losses, label='Loss')\n",
    "    plt.legend('Loss')\n",
    "    plt.show()\n",
    "\n",
    "if __name__ == \"__main__\":\n",
    "    main()"
   ]
  }
 ],
 "metadata": {
  "kernelspec": {
   "display_name": "pytorch2.1",
   "language": "python",
   "name": "pytorch2.1"
  },
  "language_info": {
   "codemirror_mode": {
    "name": "ipython",
    "version": 3
   },
   "file_extension": ".py",
   "mimetype": "text/x-python",
   "name": "python",
   "nbconvert_exporter": "python",
   "pygments_lexer": "ipython3",
   "version": "3.10.9"
  }
 },
 "nbformat": 4,
 "nbformat_minor": 5
}
